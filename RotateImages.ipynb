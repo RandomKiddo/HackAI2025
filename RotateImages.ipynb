{
 "cells": [
  {
   "cell_type": "code",
   "execution_count": 1,
   "metadata": {},
   "outputs": [],
   "source": [
    "import os\n",
    "import random\n",
    "import json\n",
    "import pickle\n",
    "import tensorflow as tf\n",
    "import kagglehub as kh\n",
    "import numpy as np\n",
    "import pandas as pd\n",
    "import matplotlib.pyplot as plt\n",
    "import matplotlib.image as mpimg\n",
    "from PIL import Image, ImageDraw\n",
    "import cv2\n",
    "import random\n"
   ]
  },
  {
   "cell_type": "code",
   "execution_count": 2,
   "metadata": {},
   "outputs": [],
   "source": [
    "tf.random.set_seed(42) # Set Random Seed"
   ]
  },
  {
   "cell_type": "code",
   "execution_count": 3,
   "metadata": {},
   "outputs": [
    {
     "name": "stdout",
     "output_type": "stream",
     "text": [
      "Warning: Looks like you're using an outdated `kagglehub` version, please consider updating (latest version: 0.3.8)\n"
     ]
    }
   ],
   "source": [
    "path = kh.dataset_download(\"msafi04/iss-docking-dataset\") # Path for images"
   ]
  },
  {
   "cell_type": "code",
   "execution_count": 4,
   "metadata": {},
   "outputs": [],
   "source": [
    "df = pd.read_csv(os.path.join(path, 'train.csv')) # Import CSV (Coordinates and distances)"
   ]
  },
  {
   "cell_type": "code",
   "execution_count": 5,
   "metadata": {},
   "outputs": [
    {
     "name": "stdout",
     "output_type": "stream",
     "text": [
      "['/Users/jacobbalek/.cache/kagglehub/datasets/msafi04/iss-docking-dataset/versions/1/train/0.jpg', '/Users/jacobbalek/.cache/kagglehub/datasets/msafi04/iss-docking-dataset/versions/1/train/1.jpg', '/Users/jacobbalek/.cache/kagglehub/datasets/msafi04/iss-docking-dataset/versions/1/train/2.jpg', '/Users/jacobbalek/.cache/kagglehub/datasets/msafi04/iss-docking-dataset/versions/1/train/3.jpg', '/Users/jacobbalek/.cache/kagglehub/datasets/msafi04/iss-docking-dataset/versions/1/train/4.jpg']\n"
     ]
    }
   ],
   "source": [
    "image_paths = []\n",
    "for f in os.listdir(os.path.join(path, 'train')):\n",
    "    if f.startswith('.') or '.jpg' not in f:\n",
    "        continue\n",
    "    image_paths.append(os.path.join(path, 'train', f))\n",
    "len(image_paths)\n",
    "image_paths.sort(key=lambda x: int(''.join(filter(str.isdigit, x))))\n",
    "print(image_paths[:5])"
   ]
  },
  {
   "cell_type": "code",
   "execution_count": 6,
   "metadata": {},
   "outputs": [],
   "source": [
    "# Helper function to plot images\n",
    "def plot_image(img):\n",
    "    img = io.imread(img)\n",
    "    fig = px.imshow(img)\n",
    "    fig.show()\n",
    "\n",
    "# Plot test images\n",
    "# for i in range(3):\n",
    "#     plot_image(image_paths[i])\n",
    "    "
   ]
  },
  {
   "cell_type": "code",
   "execution_count": 7,
   "metadata": {},
   "outputs": [],
   "source": [
    "def as_image(image_path): # Turns image into numpy array\n",
    "    image = tf.io.read_file(image_path)\n",
    "    image = tf.image.decode_image(image, channels=3)\n",
    "    image = tf.cast(image, tf.float32) / 255.0\n",
    "    return image\n",
    "\n",
    "# as_image(image_paths[0])"
   ]
  },
  {
   "cell_type": "code",
   "execution_count": 8,
   "metadata": {},
   "outputs": [],
   "source": [
    "data_gen_args = dict(featurewise_center=True,\n",
    "                     featurewise_std_normalization=True,\n",
    "                     rotation_range=90,\n",
    "                     width_shift_range=0.1,\n",
    "                     height_shift_range=0.1,\n",
    "                     zoom_range=0.2)\n",
    "image_datagen = tf.keras.preprocessing.image.ImageDataGenerator(**data_gen_args)\n",
    "\n",
    "def transform_image(img,tx=0,ty=0,zoom=1.0,rotation=0.0,shear=0.0):\n",
    "    transform_parameters = {}\n",
    "    orig_image = np.array(img, copy=True).reshape(512,512,3)\n",
    "    transform_parameters['theta'] = rotation\n",
    "    transform_parameters['zx'] = zoom\n",
    "    transform_parameters['zy'] = zoom\n",
    "    transform_parameters['tx'] = tx\n",
    "    transform_parameters['ty'] = ty\n",
    "    transform_parameters['shear'] = shear\n",
    "    orig_image = image_datagen.apply_transform(x=orig_image, transform_parameters=transform_parameters)\n",
    "    return orig_image"
   ]
  },
  {
   "cell_type": "markdown",
   "metadata": {},
   "source": [
    "Rah"
   ]
  },
  {
   "cell_type": "code",
   "execution_count": 9,
   "metadata": {},
   "outputs": [
    {
     "name": "stdout",
     "output_type": "stream",
     "text": [
      "<class 'numpy.ndarray'>\n",
      "(512, 512, 3)\n"
     ]
    }
   ],
   "source": [
    "# Turn image into numpy array\n",
    "from PIL import Image\n",
    "import numpy as np\n",
    "\n",
    "# Load the image\n",
    "image = Image.open(image_paths[0])\n",
    "\n",
    "# Convert the image to a NumPy array\n",
    "numpy_array = np.asarray(image)\n",
    "\n",
    "# Print the type and shape of the array\n",
    "print(type(numpy_array))\n",
    "print(numpy_array.shape)"
   ]
  },
  {
   "cell_type": "code",
   "execution_count": 10,
   "metadata": {},
   "outputs": [
    {
     "data": {
      "text/plain": [
       "'\\n# Plot using pillow\\nfrom PIL import Image\\n\\n# Open the image\\nimage = Image.open(image_paths[0])\\n\\n# Rotate the image by a specified angle (in degrees)\\nrotated_image = image.rotate(angle=80) # Rotates by 45 degrees counter-clockwise\\n\\n# Save the rotated image\\nrotated_image.save(\"rotated_image.jpg\")\\n\\n# Display the rotated image (optional)\\nrotated_image.show()\\n'"
      ]
     },
     "execution_count": 10,
     "metadata": {},
     "output_type": "execute_result"
    }
   ],
   "source": [
    "\"\"\"\n",
    "# Plot using pillow\n",
    "from PIL import Image\n",
    "\n",
    "# Open the image\n",
    "image = Image.open(image_paths[0])\n",
    "\n",
    "# Rotate the image by a specified angle (in degrees)\n",
    "rotated_image = image.rotate(angle=80) # Rotates by 45 degrees counter-clockwise\n",
    "\n",
    "# Save the rotated image\n",
    "rotated_image.save(\"rotated_image.jpg\")\n",
    "\n",
    "# Display the rotated image (optional)\n",
    "rotated_image.show()\n",
    "\"\"\""
   ]
  },
  {
   "cell_type": "code",
   "execution_count": 11,
   "metadata": {},
   "outputs": [],
   "source": [
    "locations = df.get('location').tolist()"
   ]
  },
  {
   "cell_type": "code",
   "execution_count": 12,
   "metadata": {},
   "outputs": [],
   "source": [
    "# Rotate pixel location using the rotation matrix\n",
    "def rotate_pixel_location(pixel_x, pixel_y, rotation_angle):\n",
    "    \"\"\"\n",
    "    Rotate a pixel's location around the center of the image by the given rotation angle.\n",
    "    \n",
    "    Args:\n",
    "    - pixel_x, pixel_y: The coordinates of the pixel to rotate.\n",
    "    - rotation_angle: The angle (in degrees) by which to rotate the pixel.\n",
    "\n",
    "    Returns:\n",
    "    - (new_x, new_y): The new coordinates of the rotated pixel.\n",
    "    \"\"\"\n",
    "\n",
    "    center = (256, 256) # Center of image\n",
    "\n",
    "    # Convert pixel coordinates to a 2x1 vector\n",
    "    # If rotating around center of image, need center point (256,256) to be (0,0)\n",
    "    pixel_coords = np.array([pixel_x, pixel_y]) # And change pixels from bottom left to rotate around the center\n",
    "\n",
    "    # Create the rotation matrix\n",
    "    M = cv2.getRotationMatrix2D(center, rotation_angle, 1.0)\n",
    "    \n",
    "    # Apply the rotation matrix to the pixel coordinates\n",
    "    new_coords = np.dot(M[:, :2], pixel_coords) + M[:, 2]\n",
    "\n",
    "    new_x, new_y = new_coords\n",
    "    return int(new_x), int(new_y) # Return to system where bottom left is (0,0)"
   ]
  },
  {
   "cell_type": "code",
   "execution_count": 13,
   "metadata": {},
   "outputs": [
    {
     "name": "stdout",
     "output_type": "stream",
     "text": [
      "[256. 256.]\n"
     ]
    }
   ],
   "source": [
    "# Read CSV\n",
    "df_ISS = pd.read_csv(os.path.join(path, 'train.csv'))\n",
    "\n",
    "M = cv2.getRotationMatrix2D((256, 256), 1, 1.0)\n",
    "print(np.dot(M[:, :2], (256,256)) + M[:, 2])"
   ]
  },
  {
   "cell_type": "code",
   "execution_count": 14,
   "metadata": {},
   "outputs": [],
   "source": [
    "# Rotate the images\n",
    "rotated_locations = [] # Define list to store rotated pixel locations\n",
    "\n",
    "# Rotate the images\n",
    "for i in range(10000):\n",
    "    \n",
    "    # Open the image\n",
    "    image = Image.open(image_paths[i])\n",
    "    # print(image_paths[0])\n",
    "\n",
    "    # Extract pixel\n",
    "    location = df_ISS[\"location\"][i]\n",
    "    # print(location)\n",
    "\n",
    "    # print(location)\n",
    "    location = tuple(json.loads(location))\n",
    "\n",
    "    pixel_x = location[0]\n",
    "    pixel_y = location[1]\n",
    "\n",
    "    #~~~~~~~~~~~\n",
    "\n",
    "    # Find random angle\n",
    "    random_angle = np.random.uniform(0, 360)\n",
    "\n",
    "    # Rotate the image by a random angle specified angle (in degrees)\n",
    "    rotated_image = image.rotate(angle=random_angle) # Rotates by random angle (in degrees) counter-clockwise\n",
    "\n",
    "    # Save the rotated image\n",
    "    image_path = \"Rotated_ISS_imgs\" # Path to save\n",
    "    rotated_image.save(f\"{image_path}/rotated_{i}.png\")\n",
    "\n",
    "    # Extract pixel\n",
    "    location = df_ISS[\"location\"][i]\n",
    "    # print(location)\n",
    "    location = tuple(json.loads(location))\n",
    "\n",
    "\n",
    "    # Rotate the point\n",
    "\n",
    "    rotated_location = list(rotate_pixel_location(pixel_x, pixel_y, random_angle))\n",
    "\n",
    "    # print(rotated_location)\n",
    "    rotated_locations.append(rotated_location)\n",
    "\n",
    "\n",
    "    rotated_pixel_x = rotated_location[0]\n",
    "    rotated_pixel_y = rotated_location[1]\n",
    "    \n",
    "    '''\n",
    "    if i < 5:\n",
    "        rotated_location_array = np.array(rotated_location) # for plotting\n",
    "\n",
    "        # Draw og\n",
    "        draw = ImageDraw.Draw(image)\n",
    "        draw.point((pixel_x, pixel_y), fill = (255, 0, 0))\n",
    "        image.show()\n",
    "\n",
    "        # Display the rotated image with pixel\n",
    "        rotated_pixel_x = rotated_location_array[0]\n",
    "        rotated_pixel_y = rotated_location_array[1]\n",
    "        print(rotated_location)\n",
    "        # rotated_image.show()\n",
    "\n",
    "        # Create an ImageDraw object\n",
    "        rotated_draw = ImageDraw.Draw(rotated_image)\n",
    "        rotated_draw.point((rotated_pixel_x, rotated_pixel_y), fill = (255, 0, 0))\n",
    "        rotated_image.show()\n",
    "    '''\n",
    "   "
   ]
  },
  {
   "cell_type": "code",
   "execution_count": 15,
   "metadata": {},
   "outputs": [
    {
     "name": "stdout",
     "output_type": "stream",
     "text": [
      "Original Dataframe\n",
      "   ImageID  distance    location\n",
      "0        0       351  [215, 158]\n",
      "1        1       372  [228, 269]\n",
      "2        2       488  [255, 386]\n",
      "3        3       308  [306, 426]\n",
      "4        4        67  [248, 338]\n",
      "Rotated Dataframe\n",
      "   ImageID  distance    location\n",
      "0        0       351  [152, 230]\n",
      "1        1       372  [278, 276]\n",
      "2        2       488  [262, 385]\n",
      "3        3       308   [260, 78]\n",
      "4        4        67  [336, 272]\n"
     ]
    }
   ],
   "source": [
    "# Make new csv with rotated locations instead\n",
    "print(\"Original Dataframe\")\n",
    "print(df_ISS.head())\n",
    "df_ISS_rotated = df_ISS.copy()\n",
    "df_ISS_rotated['location'] = rotated_locations\n",
    "print(\"Rotated Dataframe\")\n",
    "print(df_ISS_rotated.head())\n",
    "\n",
    "# Save the csv\n",
    "df_ISS_rotated.to_csv('ISS_rotated.csv', index=True)"
   ]
  },
  {
   "cell_type": "code",
   "execution_count": 16,
   "metadata": {},
   "outputs": [
    {
     "name": "stdout",
     "output_type": "stream",
     "text": [
      "ImageID      int64\n",
      "distance     int64\n",
      "location    object\n",
      "dtype: object\n"
     ]
    }
   ],
   "source": [
    "print(df_ISS_rotated.dtypes)"
   ]
  },
  {
   "cell_type": "code",
   "execution_count": 18,
   "metadata": {},
   "outputs": [
    {
     "name": "stdout",
     "output_type": "stream",
     "text": [
      "[[152 230]]\n",
      "<class 'numpy.ndarray'>\n"
     ]
    },
    {
     "data": {
      "image/png": "[encoded data removed]",
      "text/plain": [
       "<Figure size 640x480 with 2 Axes>"
      ]
     },
     "metadata": {},
     "output_type": "display_data"
    }
   ],
   "source": [
    "# Make a heatmap of the new locations\n",
    "\n",
    "rotated_locations = df_ISS_rotated.get('location').to_list() # Extract locations from df\n",
    "rotated_locations = np.array(rotated_locations)\n",
    "\n",
    "locations = np.array(rotated_locations) # print(\"Rotated Heatmap\")\n",
    "\n",
    "print(locations[:1])\n",
    "\n",
    "\n",
    "print(type(locations[:1]))\n",
    "x, y = locations[:,0], locations[:, 1]\n",
    "x, y = x/512, y/512\n",
    "\n",
    "plt.hist2d(x,y, bins=[np.arange(0, 1,12/512),np.arange(0, 1,12/512)])\n",
    "plt.colorbar()\n",
    "plt.show()"
   ]
  },
  {
   "cell_type": "code",
   "execution_count": null,
   "metadata": {},
   "outputs": [],
   "source": []
  }
 ],
 "metadata": {
  "kernelspec": {
   "display_name": "hai",
   "language": "python",
   "name": "python3"
  },
  "language_info": {
   "codemirror_mode": {
    "name": "ipython",
    "version": 3
   },
   "file_extension": ".py",
   "mimetype": "text/x-python",
   "name": "python",
   "nbconvert_exporter": "python",
   "pygments_lexer": "ipython3",
   "version": "3.11.11"
  }
 },
 "nbformat": 4,
 "nbformat_minor": 2
}
