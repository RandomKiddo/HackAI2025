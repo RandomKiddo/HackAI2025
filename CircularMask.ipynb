{
 "cells": [
  {
   "cell_type": "code",
   "execution_count": 6,
   "metadata": {},
   "outputs": [],
   "source": [
    "import os\n",
    "import random\n",
    "import json\n",
    "import pickle\n",
    "import tensorflow as tf\n",
    "import kagglehub as kh\n",
    "import numpy as np\n",
    "import pandas as pd\n",
    "import matplotlib.pyplot as plt\n",
    "import cv2"
   ]
  },
  {
   "cell_type": "code",
   "execution_count": 9,
   "metadata": {},
   "outputs": [],
   "source": [
    "def apply_mask(image_path, output_dir):\n",
    "    '''\n",
    "    Creates a circular mask of the input image with a diameter equal to the image's smallest side length\n",
    "\n",
    "    Args:\n",
    "    - image_path: Path of the image to be masked\n",
    "    - output_dir: Directory to write the new masked image to\n",
    "\n",
    "    Returns:\n",
    "    - output_path: Path of the masked image\n",
    "    '''\n",
    "    # Load the image\n",
    "    image = cv2.imread(image_path)\n",
    "    if image is None:\n",
    "        raise ValueError(\"Could not load image. Check the file path.\")\n",
    "    \n",
    "    # Get image dimensions\n",
    "    height, width = image.shape[:2]\n",
    "    \n",
    "    # Determine the diameter (smallest side length)\n",
    "    diameter = min(height, width)\n",
    "    \n",
    "    # Create a black mask\n",
    "    mask = np.zeros((height, width), dtype=np.uint8)\n",
    "    \n",
    "    # Define the center and radius of the circle\n",
    "    center = (width // 2, height // 2)\n",
    "    radius = diameter // 2\n",
    "    \n",
    "    # Draw a white circle in the center\n",
    "    cv2.circle(mask, center, radius, 255, -1)\n",
    "    \n",
    "    # Apply the mask\n",
    "    masked_image = cv2.bitwise_and(image, image, mask=mask)\n",
    "    \n",
    "    # Construct the output filename\n",
    "    base_name = os.path.basename(image_path)\n",
    "    name, ext = os.path.splitext(base_name)\n",
    "    output_path = os.path.join(output_dir, f\"{name}_masked{ext}\")\n",
    "    \n",
    "    # Save the masked image\n",
    "    cv2.imwrite(output_path, masked_image)\n",
    "    \n",
    "    return output_path\n"
   ]
  },
  {
   "cell_type": "code",
   "execution_count": 10,
   "metadata": {},
   "outputs": [
    {
     "data": {
      "text/plain": [
       "'test_masked.jpg'"
      ]
     },
     "execution_count": 10,
     "metadata": {},
     "output_type": "execute_result"
    }
   ],
   "source": [
    "apply_mask(image_path=\"test.jpg\",output_dir=\"\")"
   ]
  }
 ],
 "metadata": {
  "kernelspec": {
   "display_name": "hai",
   "language": "python",
   "name": "python3"
  },
  "language_info": {
   "codemirror_mode": {
    "name": "ipython",
    "version": 3
   },
   "file_extension": ".py",
   "mimetype": "text/x-python",
   "name": "python",
   "nbconvert_exporter": "python",
   "pygments_lexer": "ipython3",
   "version": "3.11.11"
  },
  "orig_nbformat": 4
 },
 "nbformat": 4,
 "nbformat_minor": 2
}
